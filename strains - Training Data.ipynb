{
 "cells": [
  {
   "cell_type": "code",
   "execution_count": 1,
   "metadata": {},
   "outputs": [],
   "source": [
    "import os\n",
    "import sys\n",
    "import glob\n",
    "import scipy\n",
    "import matplotlib\n",
    "import numpy as np\n",
    "import pandas as pd\n",
    "import seaborn as sns\n",
    "from collections import defaultdict\n",
    "from matplotlib import pyplot as plt\n",
    "from matplotlib.backends.backend_pdf import PdfPages\n",
    "\n",
    "%matplotlib inline\n",
    "sns.set_style('whitegrid')\n",
    "pd.set_option('display.max_rows', 100)\n",
    "matplotlib.rcParams['ps.fonttype'] = 42\n",
    "matplotlib.rcParams['pdf.fonttype'] = 42\n",
    "pd.set_option('display.max_columns', 100)\n",
    "\n",
    "import warnings\n",
    "warnings.filterwarnings(\"ignore\")"
   ]
  },
  {
   "cell_type": "code",
   "execution_count": 2,
   "metadata": {},
   "outputs": [],
   "source": [
    "sys.path.append('/home/alexcc/strains_analysis/')\n",
    "sys.path.append('/home/alexcc/strains/')\n",
    "\n",
    "import strainRepOneSample"
   ]
  },
  {
   "cell_type": "code",
   "execution_count": null,
   "metadata": {
    "scrolled": false
   },
   "outputs": [],
   "source": [
    "map_df = pd.read_csv('/home/alexcc/strains/training_output/mapping.txt', sep='\\t')\n",
    "for index, row in map_df.iterrows():\n",
    "    \n",
    "    s = strainRepOneSample.SNVdata()\n",
    "    s.load('/home/alexcc/strains/training_output/' + row[0].replace(\".data\",\"\"))\n",
    "    title = \"Genomes: \" + str(row[1]) + \"   divergence: \" + str(row[2]) + \"   split: \" + str(row[3])\n",
    "#     print(title)\n",
    "#     print(\":\".join(list(row)))\n",
    "    plt.figure() \n",
    "    plt.title(title)\n",
    "    sns.kdeplot(s.snv_table['freq'], shade=True, cut=0)\n",
    "    sns.jointplot(x=\"freq\", y=\"SNVs-per-read\", data=s.snv_table, kind=\"hex\")\n",
    "#     plt.title(title)    \n",
    "#     plt.figure()\n"
   ]
  },
  {
   "cell_type": "code",
   "execution_count": null,
   "metadata": {},
   "outputs": [],
   "source": []
  }
 ],
 "metadata": {
  "kernelspec": {
   "display_name": "Python 3 - alexcc",
   "language": "python",
   "name": "python3"
  },
  "language_info": {
   "codemirror_mode": {
    "name": "ipython",
    "version": 3
   },
   "file_extension": ".py",
   "mimetype": "text/x-python",
   "name": "python",
   "nbconvert_exporter": "python",
   "pygments_lexer": "ipython3",
   "version": "3.6.0"
  }
 },
 "nbformat": 4,
 "nbformat_minor": 2
}
